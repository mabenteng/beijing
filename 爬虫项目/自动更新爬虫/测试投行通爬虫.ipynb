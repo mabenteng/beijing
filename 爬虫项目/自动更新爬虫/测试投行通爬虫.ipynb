{
 "cells": [
  {
   "cell_type": "code",
   "execution_count": 45,
   "metadata": {},
   "outputs": [],
   "source": [
    "import requests\n",
    "from pyquery import PyQuery as pq\n",
    "import time,re\n",
    "\n",
    "url=\"https://hr.gtja.com/recruitment/index/campus\"\n",
    "res=requests.get(url)\n",
    "res.encoding=res.apparent_encoding\n",
    "doc=pq(res.text)\n"
   ]
  },
  {
   "cell_type": "markdown",
   "metadata": {},
   "source": [
    "### 测试国泰君安url元素"
   ]
  },
  {
   "cell_type": "code",
   "execution_count": 78,
   "metadata": {
    "jupyter": {
     "source_hidden": true
    }
   },
   "outputs": [
    {
     "data": {
      "text/plain": [
       "'总部'"
      ]
     },
     "execution_count": 78,
     "metadata": {},
     "output_type": "execute_result"
    }
   ],
   "source": [
    "doc(\"div.eve-job\").length\n",
    "# 岗位所属部门-----投资银行部\n",
    "# doc(\"div.eve-job\").eq(0).parent().find(\"div.department-title\").text()\n",
    "# 岗位url--用来去重------/career/apply/job/jid/853/\n",
    "doc(\"div.eve-job\").eq(0).find(\"div.job-title a.apply-btn\").attr(\"href\")\n",
    "# 岗位title\n",
    "doc(\"div.eve-job\").eq(0).find(\"ul.cont div.sm-li span\").eq(0).text()\n",
    "# 工作地点\n",
    "doc(\"div.eve-job\").eq(0).find(\"ul.cont div.sm-li span\").eq(1).text()\n",
    "# 学历要求\n",
    "doc(\"div.eve-job\").eq(0).find(\"ul.cont div.sm-li span\").eq(2).text()\n",
    "# 岗位内容\n",
    "doc(\"div.eve-job\").eq(0).find(\"div.bg-li\").html()\n",
    "# 招聘others字段,所属分公司\n",
    "doc(\"div.eve-job\").eq(0).parent().parent().find(\"div.business span\").text()\n",
    "\n"
   ]
  },
  {
   "cell_type": "code",
   "execution_count": 44,
   "metadata": {},
   "outputs": [
    {
     "data": {
      "text/plain": [
       "1"
      ]
     },
     "execution_count": 44,
     "metadata": {},
     "output_type": "execute_result"
    }
   ],
   "source": [
    "len(doc(\"li.icon13a span\"))\n"
   ]
  },
  {
   "cell_type": "code",
   "execution_count": 43,
   "metadata": {},
   "outputs": [
    {
     "data": {
      "text/plain": [
       "'2021-05-24'"
      ]
     },
     "execution_count": 43,
     "metadata": {},
     "output_type": "execute_result"
    }
   ],
   "source": [
    "doc(\"li.icon13c span\").text()"
   ]
  },
  {
   "cell_type": "code",
   "execution_count": 98,
   "metadata": {},
   "outputs": [
    {
     "data": {
      "text/plain": [
       "25703.5515355"
      ]
     },
     "execution_count": 98,
     "metadata": {},
     "output_type": "execute_result"
    }
   ],
   "source": [
    "time.perf_counter()"
   ]
  },
  {
   "cell_type": "code",
   "execution_count": null,
   "metadata": {},
   "outputs": [],
   "source": []
  }
 ],
 "metadata": {
  "kernelspec": {
   "display_name": "Python 3",
   "language": "python",
   "name": "python3"
  },
  "language_info": {
   "codemirror_mode": {
    "name": "ipython",
    "version": 3
   },
   "file_extension": ".py",
   "mimetype": "text/x-python",
   "name": "python",
   "nbconvert_exporter": "python",
   "pygments_lexer": "ipython3",
   "version": "3.8.5"
  }
 },
 "nbformat": 4,
 "nbformat_minor": 4
}
