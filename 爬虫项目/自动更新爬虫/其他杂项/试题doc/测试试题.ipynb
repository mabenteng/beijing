{
 "cells": [
  {
   "cell_type": "code",
   "execution_count": 7,
   "metadata": {},
   "outputs": [
    {
     "data": {
      "text/plain": [
       "445"
      ]
     },
     "execution_count": 7,
     "metadata": {},
     "output_type": "execute_result"
    }
   ],
   "source": [
    "import re\n",
    "filex=\"./111.txt\"\n",
    "\n",
    "with open(filex,\"r\",encoding=\"utf8\") as f:\n",
    "    contents=f.read()\n",
    "\n",
    "len(contents)"
   ]
  },
  {
   "cell_type": "code",
   "execution_count": 9,
   "metadata": {},
   "outputs": [
    {
     "data": {
      "text/plain": [
       "['1.根据《关于金融类企业挂牌融资有关事项的通知》，下列公司中，全国股转系统目前可受理其挂牌申请的是（\\t）。\\nA.商业保理公司\\nB.融资租赁公司\\nC.典当公司\\nD.私募基金管理公司\\nE.小额贷款公司\\n2.根据《上市公司股东大会规则》（2016年修订），下列关于上市公司股东大会征集投票权的说法，正确的是（\\t）。\\nA.董事会征集股东投票权应当向被征集人充分披露具体投票意向等信息，独立董事征集股东投票权时可不披露具体投票意向，并拥有最终投票决定权\\nB.公司董事会、独立董事可以公开征集股东投票权；符合条件的股东可以非公开征集股东投票权，但不得公开征集投票权\\nC.公司不得对征集投票权提出最低持股比例限制\\nD.征集人可以以有偿形式征集股东投票权\\n3.']"
      ]
     },
     "execution_count": 9,
     "metadata": {},
     "output_type": "execute_result"
    }
   ],
   "source": [
    "re.search(r\"\\d\\..*\",contents).group() # 题目\n",
    "re.findall(r\"\\d\\..*\\d\\.\",contents,re.S) #.split(\"\\n\")\n",
    "# contents.split(\"\\n\\d\\.\")"
   ]
  },
  {
   "cell_type": "code",
   "execution_count": null,
   "metadata": {},
   "outputs": [],
   "source": []
  },
  {
   "cell_type": "code",
   "execution_count": null,
   "metadata": {},
   "outputs": [],
   "source": []
  },
  {
   "cell_type": "code",
   "execution_count": 98,
   "metadata": {},
   "outputs": [
    {
     "data": {
      "text/plain": [
       "'A.商业保理公司\\nB.融资租赁公司\\nC.典当公司\\nD.私募基金管理公司\\nE.小额贷款公司'"
      ]
     },
     "execution_count": 98,
     "metadata": {},
     "output_type": "execute_result"
    }
   ],
   "source": [
    "cont=re.compile('[\\d]+\\.(.*?)(?=[\\d]+\\.)', re.DOTALL)\n",
    "oneti=cont.findall(contents) # 每一个试题和选项\n",
    "title=re.search(r\"(.*)\\nA\\.\",oneti[0]).group(1)\n",
    "option=re.search(r\"\\nA\\..*\",oneti[0],re.DOTALL).group()\n",
    "option=option.strip() #去除两边换行\n",
    "option"
   ]
  },
  {
   "cell_type": "code",
   "execution_count": 106,
   "metadata": {},
   "outputs": [
    {
     "name": "stdout",
     "output_type": "stream",
     "text": [
      "1.根据《关于金融类企业挂牌融资有关事项的通知》，下列公司中，全国股转系统目前可受理其挂牌申请的是（\t）。\n",
      "A.商业保理公司\n",
      "B.融资租赁公司\n",
      "C.典当公司\n",
      "D.私募基金管理公司\n",
      "E.小额贷款公司\n",
      "2.根据《上市公司股东大会规则》（2016年修订），下列关于上市公司股东大会征集投票权的说法，正确的是（\t）。\n",
      "A.董事会征集股东投票权应当向被征集人充分披露具体投票意向等信息，独立董事征集股东投票权时可不披露具体投票意向，并拥有最终投票决定权\n",
      "B.公司董事会、独立董事可以公开征集股东投票权；符合条件的股东可以非公开征集股东投票权，但不得公开征集投票权\n",
      "C.公司不得对征集投票权提出最低持股比例限制\n",
      "D.征集人可以以有偿形式征集股东投票权\n",
      "3.根据《创业板上市公司证券发行管理暂行办法》，创业板上市公司非公开发行股票可自行销售的情形是（\t）。\n",
      "A.发行对象为上市公司控股股东的参股企业\n",
      "B.发行对象为上市公司的销售人员\n",
      "C.发行对象为原前10名机构股东\n",
      "D.发行对象为原前10名自然人股东\n",
      "\n"
     ]
    },
    {
     "data": {
      "text/plain": [
       "['根据《关于金融类企业挂牌融资有关事项的通知》，下列公司中，全国股转系统目前可受理其挂牌申请的是（\\t）。\\nA.商业保理公司\\nB.融资租赁公司\\nC.典当公司\\nD.私募基金管理公司\\nE.小额贷款公司\\n',\n",
       " '根据《上市公司股东大会规则》（2016年修订），下列关于上市公司股东大会征集投票权的说法，正确的是（\\t）。\\nA.董事会征集股东投票权应当向被征集人充分披露具体投票意向等信息，独立董事征集股东投票权时可不披露具体投票意向，并拥有最终投票决定权\\nB.公司董事会、独立董事可以公开征集股东投票权；符合条件的股东可以非公开征集股东投票权，但不得公开征集投票权\\nC.公司不得对征集投票权提出最低持股比例限制\\nD.征集人可以以有偿形式征集股东投票权\\n',\n",
       " '根据《创业板上市公司证券发行管理暂行办法》，创业板上市公司非公开发行股票可自行销售的情形是（\\t）。\\nA.发行对象为上市公司控股股东的参股企业\\nB.发行对象为上市公司的销售人员\\nC.发行对象为原前10名机构股东\\nD.发行对象为原前10名自然人股东']"
      ]
     },
     "execution_count": 106,
     "metadata": {},
     "output_type": "execute_result"
    }
   ],
   "source": [
    "print(contents)\n",
    "cont=re.compile('[\\d]+\\.(.*?)(?=[\\d]+\\.|$)', re.DOTALL)\n",
    "cont.findall(contents) # 每一个试题和选项"
   ]
  },
  {
   "cell_type": "code",
   "execution_count": 111,
   "metadata": {},
   "outputs": [
    {
     "data": {
      "text/plain": [
       "'\\nA.董事会征集股东投票权应当向被征集人充分披露具体投票意向等信息，独立董事征集股东投票权时可不披露具体投票意向，并拥有最终投票决定权\\nB.公司董事会、独立董事可以公开征集股东投票权；符合条件的股东可以非公开征集股东投票权，但不得公开征集投票权\\nC.公司不得对征集投票权提出最低持股比例限制\\nD.征集人可以以有偿形式征集股东投票权\\n'"
      ]
     },
     "execution_count": 111,
     "metadata": {},
     "output_type": "execute_result"
    }
   ],
   "source": [
    "re.search(r\"\\nA\\..*\",oneti[1],re.DOTALL).group()"
   ]
  },
  {
   "cell_type": "code",
   "execution_count": 112,
   "metadata": {},
   "outputs": [],
   "source": [
    "tt=\"\"\"\n",
    "发行人的董事、监事、高级管理人员及持股比例超过5%的股东认购及交易该发行人发行的公司债券,资产支持证券原始权益人及其关联方认购及交易相应的资产支持证券，不受本办法第6条规定的合格投资者条件的限制。\n",
    "承销机构可参与其承销的债券的认购及交易。\n",
    "50.【答案】我是答案\n",
    "我是另外一个正文\n",
    "51.【答案】我是答案\n",
    "\"\"\""
   ]
  },
  {
   "cell_type": "code",
   "execution_count": 120,
   "metadata": {},
   "outputs": [
    {
     "data": {
      "text/plain": [
       "'\\n发行人的董事、监事、高级管理人员及持股比例超过5%的股东认购及交易该发行人发行的公司债券,资产支持证券原始权益人及其关联方认购及交易相应的资产支持证券，不受本办法第6条规定的合格投资者条件的限制。\\n承销机构可参与其承销的债券的认购及交易。\\n'"
      ]
     },
     "execution_count": 120,
     "metadata": {},
     "output_type": "execute_result"
    }
   ],
   "source": [
    "re.search(r\"(.*?)\\d+\\.\",tt,re.DOTALL).group(1)"
   ]
  },
  {
   "cell_type": "markdown",
   "metadata": {},
   "source": [
    "## 选择题答案解析"
   ]
  },
  {
   "cell_type": "code",
   "execution_count": 2,
   "metadata": {},
   "outputs": [],
   "source": [
    "import re\n",
    "filex=\"./选择答案.txt\"\n",
    "\n",
    "with open(filex,\"r\",encoding=\"utf8\") as f:\n",
    "    contents=f.read()\n",
    "\n"
   ]
  },
  {
   "cell_type": "code",
   "execution_count": 36,
   "metadata": {},
   "outputs": [
    {
     "data": {
      "text/plain": [
       "'10.【答案】C\\n【涉及知识点】上市公司发行优先股\\n【解析】\\nA项，《优先股试点管理办法》第24条规定，上市公司同一次发行的优先股，条款应当相同。每次优先股发行完毕前，不得再次发行优先股。\\nB项，第23条规定，上市公司已发行的优先股不得超过公司普通股股份总数的50%，且筹资金额不得超过发行前净资产的50%，已回购、转换的优先股不纳入计算。\\nCD两项，第21条规定，上市公司报告期不存在重大会计违规事项。公开发行优先股，最近3年财务报表被注册会计师出具的审计报告应当为标准审计报告或带强调事项段的无保留意见的审计报告；非公开发行优先股，最近1年财务报表被注册会计师出具的审计报告为非标准审计报告的，所涉及事项对公司无重大不利影响或者在发行前重大不利影响已经消除。\\n'"
      ]
     },
     "execution_count": 36,
     "metadata": {},
     "output_type": "execute_result"
    }
   ],
   "source": [
    "ans=re.findall(r\"\\d+\\..*?(?=\\d+\\.【答案】|$)\",contents,re.DOTALL)[9]  # 答案解析中的一个答案\n",
    "ans"
   ]
  },
  {
   "cell_type": "code",
   "execution_count": 37,
   "metadata": {},
   "outputs": [],
   "source": [
    "ans_option=re.search(r\"【答案】(.*)\",ans).group(1) #提取答案\n",
    "ans_other=re.search(r\"【涉及知识点】(.*)\\n【解析】\",ans).group(1) # 提取涉及知识点\n",
    "ans_analysis=re.search(r\"【解析】\\n(.*)\",ans,re.DOTALL).group(1).strip() # 提取答案解析,可能有多行"
   ]
  },
  {
   "cell_type": "code",
   "execution_count": 38,
   "metadata": {},
   "outputs": [
    {
     "data": {
      "text/plain": [
       "'1'"
      ]
     },
     "execution_count": 38,
     "metadata": {},
     "output_type": "execute_result"
    }
   ],
   "source": [
    "re.match(r\"\\d\",ans.strip()).group()"
   ]
  },
  {
   "cell_type": "markdown",
   "metadata": {},
   "source": [
    "## 组合题题目和选项"
   ]
  },
  {
   "cell_type": "code",
   "execution_count": 95,
   "metadata": {},
   "outputs": [
    {
     "data": {
      "text/plain": [
       "52"
      ]
     },
     "execution_count": 95,
     "metadata": {},
     "output_type": "execute_result"
    }
   ],
   "source": [
    "import re\n",
    "filex=\"./组合题.txt\"\n",
    "\n",
    "with open(filex,\"r\",encoding=\"utf8\") as f:\n",
    "    contents=f.read()\n",
    "\n",
    "cont=re.compile('[\\d]+\\.(.*?)(?=\\n\\d+\\.|$)', re.DOTALL)\n",
    "tip=cont.findall(contents) # 每一个试题和选项\n",
    "len(tip)"
   ]
  },
  {
   "cell_type": "code",
   "execution_count": null,
   "metadata": {},
   "outputs": [],
   "source": [
    "\n"
   ]
  },
  {
   "cell_type": "code",
   "execution_count": 50,
   "metadata": {},
   "outputs": [
    {
     "data": {
      "text/plain": [
       "re.compile(r'[\\d]+\\.(.*?)(?=[\\d]+\\.)', re.DOTALL|re.UNICODE)"
      ]
     },
     "execution_count": 50,
     "metadata": {},
     "output_type": "execute_result"
    }
   ],
   "source": [
    "re.compile('[\\d]+\\.(.*?)(?=[\\d]+\\.)',re.DOTALL)"
   ]
  },
  {
   "cell_type": "code",
   "execution_count": 42,
   "metadata": {},
   "outputs": [
    {
     "name": "stdout",
     "output_type": "stream",
     "text": [
      "根据《关于外国投资者并购境内企业的规定》，外国投资者股权并购的，不考虑其他因素，下列对并购后所设外商投资企业投资总额的说法正确的有（\t）。\n",
      "I.甲公司注册资本为200万美元，投资总额为300万美元\n",
      "Ⅱ.乙公司注册资本为300万美元，投资总额为500万美元\n",
      "Ⅲ.丙公司注册资本为600万美元，投资总额为1200万美元\n",
      "Ⅳ.丁公司注册资本为1000万美元，投资总额为2200万美元\n",
      "V.戌公司注册资本为1亿美元，投资总额为\n"
     ]
    },
    {
     "ename": "AttributeError",
     "evalue": "'NoneType' object has no attribute 'group'",
     "output_type": "error",
     "traceback": [
      "\u001b[1;31m---------------------------------------------------------------------------\u001b[0m",
      "\u001b[1;31mAttributeError\u001b[0m                            Traceback (most recent call last)",
      "\u001b[1;32m<ipython-input-42-6a8040978e69>\u001b[0m in \u001b[0;36m<module>\u001b[1;34m\u001b[0m\n\u001b[0;32m      1\u001b[0m \u001b[0mprint\u001b[0m\u001b[1;33m(\u001b[0m\u001b[0moneti\u001b[0m\u001b[1;33m[\u001b[0m\u001b[1;36m15\u001b[0m\u001b[1;33m]\u001b[0m\u001b[1;33m)\u001b[0m\u001b[1;33m\u001b[0m\u001b[1;33m\u001b[0m\u001b[0m\n\u001b[1;32m----> 2\u001b[1;33m \u001b[0mtitle\u001b[0m\u001b[1;33m=\u001b[0m\u001b[0mre\u001b[0m\u001b[1;33m.\u001b[0m\u001b[0msearch\u001b[0m\u001b[1;33m(\u001b[0m\u001b[1;34mr\"(.*)\\nA\\.\"\u001b[0m\u001b[1;33m,\u001b[0m\u001b[0moneti\u001b[0m\u001b[1;33m[\u001b[0m\u001b[1;36m15\u001b[0m\u001b[1;33m]\u001b[0m\u001b[1;33m,\u001b[0m\u001b[0mre\u001b[0m\u001b[1;33m.\u001b[0m\u001b[0mS\u001b[0m\u001b[1;33m)\u001b[0m\u001b[1;33m.\u001b[0m\u001b[0mgroup\u001b[0m\u001b[1;33m(\u001b[0m\u001b[1;36m1\u001b[0m\u001b[1;33m)\u001b[0m\u001b[1;33m\u001b[0m\u001b[1;33m\u001b[0m\u001b[0m\n\u001b[0m\u001b[0;32m      3\u001b[0m \u001b[0mprint\u001b[0m\u001b[1;33m(\u001b[0m\u001b[0mtitle\u001b[0m\u001b[1;33m)\u001b[0m\u001b[1;33m\u001b[0m\u001b[1;33m\u001b[0m\u001b[0m\n\u001b[0;32m      4\u001b[0m \u001b[0moption\u001b[0m\u001b[1;33m=\u001b[0m\u001b[0mre\u001b[0m\u001b[1;33m.\u001b[0m\u001b[0msearch\u001b[0m\u001b[1;33m(\u001b[0m\u001b[1;34mr\"\\nA\\..*\"\u001b[0m\u001b[1;33m,\u001b[0m\u001b[0moneti\u001b[0m\u001b[1;33m[\u001b[0m\u001b[1;36m15\u001b[0m\u001b[1;33m]\u001b[0m\u001b[1;33m,\u001b[0m\u001b[0mre\u001b[0m\u001b[1;33m.\u001b[0m\u001b[0mDOTALL\u001b[0m\u001b[1;33m)\u001b[0m\u001b[1;33m.\u001b[0m\u001b[0mgroup\u001b[0m\u001b[1;33m(\u001b[0m\u001b[1;33m)\u001b[0m \u001b[1;31m#选择项目\u001b[0m\u001b[1;33m\u001b[0m\u001b[1;33m\u001b[0m\u001b[0m\n\u001b[0;32m      5\u001b[0m \u001b[0moption\u001b[0m\u001b[1;33m=\u001b[0m\u001b[0moption\u001b[0m\u001b[1;33m.\u001b[0m\u001b[0mstrip\u001b[0m\u001b[1;33m(\u001b[0m\u001b[1;33m)\u001b[0m\u001b[1;33m\u001b[0m\u001b[1;33m\u001b[0m\u001b[0m\n",
      "\u001b[1;31mAttributeError\u001b[0m: 'NoneType' object has no attribute 'group'"
     ]
    }
   ],
   "source": [
    "print(oneti[15])\n",
    "title=re.search(r\"(.*)\\nA\\.\",oneti[15],re.S).group(1)\n",
    "print(title)\n",
    "option=re.search(r\"\\nA\\..*\",oneti[15],re.DOTALL).group() #选择项目\n",
    "option=option.strip()\n",
    "option"
   ]
  },
  {
   "cell_type": "code",
   "execution_count": 92,
   "metadata": {},
   "outputs": [
    {
     "ename": "AttributeError",
     "evalue": "'NoneType' object has no attribute 'group'",
     "output_type": "error",
     "traceback": [
      "\u001b[1;31m---------------------------------------------------------------------------\u001b[0m",
      "\u001b[1;31mAttributeError\u001b[0m                            Traceback (most recent call last)",
      "\u001b[1;32m<ipython-input-92-64e32035b3a2>\u001b[0m in \u001b[0;36m<module>\u001b[1;34m\u001b[0m\n\u001b[0;32m      5\u001b[0m     \u001b[0moption\u001b[0m\u001b[1;33m=\u001b[0m\u001b[0mre\u001b[0m\u001b[1;33m.\u001b[0m\u001b[0msearch\u001b[0m\u001b[1;33m(\u001b[0m\u001b[1;34mr'\\nA\\..*'\u001b[0m\u001b[1;33m,\u001b[0m\u001b[0moneti\u001b[0m\u001b[1;33m,\u001b[0m\u001b[0mre\u001b[0m\u001b[1;33m.\u001b[0m\u001b[0mDOTALL\u001b[0m\u001b[1;33m)\u001b[0m\u001b[1;33m.\u001b[0m\u001b[0mgroup\u001b[0m\u001b[1;33m(\u001b[0m\u001b[1;33m)\u001b[0m\u001b[1;33m\u001b[0m\u001b[1;33m\u001b[0m\u001b[0m\n\u001b[0;32m      6\u001b[0m     \u001b[0moption\u001b[0m\u001b[1;33m=\u001b[0m\u001b[0moption\u001b[0m\u001b[1;33m.\u001b[0m\u001b[0mstrip\u001b[0m\u001b[1;33m(\u001b[0m\u001b[1;33m)\u001b[0m\u001b[1;33m\u001b[0m\u001b[1;33m\u001b[0m\u001b[0m\n\u001b[1;32m----> 7\u001b[1;33m     \u001b[0mtiid\u001b[0m\u001b[1;33m=\u001b[0m\u001b[0mre\u001b[0m\u001b[1;33m.\u001b[0m\u001b[0msearch\u001b[0m\u001b[1;33m(\u001b[0m\u001b[1;34mr\"\\d+\\.\"\u001b[0m\u001b[1;33m,\u001b[0m\u001b[0moneti\u001b[0m\u001b[1;33m)\u001b[0m\u001b[1;33m.\u001b[0m\u001b[0mgroup\u001b[0m\u001b[1;33m(\u001b[0m\u001b[1;33m)\u001b[0m\u001b[1;33m\u001b[0m\u001b[1;33m\u001b[0m\u001b[0m\n\u001b[0m\u001b[0;32m      8\u001b[0m     \u001b[1;31m#     print(co)\u001b[0m\u001b[1;33m\u001b[0m\u001b[1;33m\u001b[0m\u001b[1;33m\u001b[0m\u001b[0m\n\u001b[0;32m      9\u001b[0m     \u001b[0mco\u001b[0m\u001b[1;33m+=\u001b[0m\u001b[1;36m1\u001b[0m\u001b[1;33m\u001b[0m\u001b[1;33m\u001b[0m\u001b[0m\n",
      "\u001b[1;31mAttributeError\u001b[0m: 'NoneType' object has no attribute 'group'"
     ]
    }
   ],
   "source": [
    "# everyti=cont.findall(contents)\n",
    "co=0\n",
    "for oneti in tip:\n",
    "    title=re.search(r\"(.*)\\nA\\.\",oneti,re.S).group(1)\n",
    "    option=re.search(r'\\nA\\..*',oneti,re.DOTALL).group()\n",
    "    option=option.strip()\n",
    "    tiid=re.search(r\"\\d+\\.\",oneti).group()\n",
    "    #     print(co)\n",
    "    co+=1\n",
    "#     print(tiid)\n",
    "    title"
   ]
  },
  {
   "cell_type": "code",
   "execution_count": 41,
   "metadata": {},
   "outputs": [
    {
     "ename": "AttributeError",
     "evalue": "'NoneType' object has no attribute 'group'",
     "output_type": "error",
     "traceback": [
      "\u001b[1;31m---------------------------------------------------------------------------\u001b[0m",
      "\u001b[1;31mAttributeError\u001b[0m                            Traceback (most recent call last)",
      "\u001b[1;32m<ipython-input-41-1b0dd83ad0af>\u001b[0m in \u001b[0;36m<module>\u001b[1;34m\u001b[0m\n\u001b[1;32m----> 1\u001b[1;33m \u001b[0mre\u001b[0m\u001b[1;33m.\u001b[0m\u001b[0msearch\u001b[0m\u001b[1;33m(\u001b[0m\u001b[1;34mr\"(.*)\\nA\\.\"\u001b[0m\u001b[1;33m,\u001b[0m\u001b[0moneti\u001b[0m\u001b[1;33m[\u001b[0m\u001b[1;36m15\u001b[0m\u001b[1;33m]\u001b[0m\u001b[1;33m,\u001b[0m\u001b[0mre\u001b[0m\u001b[1;33m.\u001b[0m\u001b[0mDOTALL\u001b[0m\u001b[1;33m)\u001b[0m\u001b[1;33m.\u001b[0m\u001b[0mgroup\u001b[0m\u001b[1;33m(\u001b[0m\u001b[1;36m1\u001b[0m\u001b[1;33m)\u001b[0m\u001b[1;33m\u001b[0m\u001b[1;33m\u001b[0m\u001b[0m\n\u001b[0m",
      "\u001b[1;31mAttributeError\u001b[0m: 'NoneType' object has no attribute 'group'"
     ]
    }
   ],
   "source": [
    "re.search(r\"(.*)\\nA\\.\",oneti[15],re.DOTALL).group(1)"
   ]
  },
  {
   "cell_type": "code",
   "execution_count": 43,
   "metadata": {},
   "outputs": [
    {
     "data": {
      "text/plain": [
       "'根据《关于外国投资者并购境内企业的规定》，外国投资者股权并购的，不考虑其他因素，下列对并购后所设外商投资企业投资总额的说法正确的有（\\t）。\\nI.甲公司注册资本为200万美元，投资总额为300万美元\\nⅡ.乙公司注册资本为300万美元，投资总额为500万美元\\nⅢ.丙公司注册资本为600万美元，投资总额为1200万美元\\nⅣ.丁公司注册资本为1000万美元，投资总额为2200万美元\\nV.戌公司注册资本为1亿美元，投资总额为'"
      ]
     },
     "execution_count": 43,
     "metadata": {},
     "output_type": "execute_result"
    }
   ],
   "source": [
    "oneti[15]"
   ]
  },
  {
   "cell_type": "code",
   "execution_count": 94,
   "metadata": {},
   "outputs": [
    {
     "data": {
      "text/plain": [
       "52"
      ]
     },
     "execution_count": 94,
     "metadata": {},
     "output_type": "execute_result"
    }
   ],
   "source": [
    "len(re.findall(r\"^\\d+\\.\",contents,re.M|re.S))"
   ]
  },
  {
   "cell_type": "markdown",
   "metadata": {},
   "source": [
    "# 组合题答案解析"
   ]
  },
  {
   "cell_type": "code",
   "execution_count": 98,
   "metadata": {},
   "outputs": [
    {
     "data": {
      "text/plain": [
       "52"
      ]
     },
     "execution_count": 98,
     "metadata": {},
     "output_type": "execute_result"
    }
   ],
   "source": [
    "filex=\"./组合题答案.txt\"\n",
    "\n",
    "with open(filex,\"r\",encoding=\"utf8\") as f:\n",
    "    contents=f.read()\n",
    "\n",
    "# exit()\n",
    "#\n",
    "# print(contents)\n",
    "anss=re.findall(r\"\\d+\\..*?(?=\\d+\\.【答案】|$)\",contents,re.DOTALL)\n",
    "len(anss)"
   ]
  },
  {
   "cell_type": "code",
   "execution_count": 101,
   "metadata": {},
   "outputs": [
    {
     "name": "stdout",
     "output_type": "stream",
     "text": [
      "C 证券公司次级债 I项，《证券公司次级管理规定》第2条第3款规定，证券公司次级债券只能以非公开方式发行，不得采用广告、公开劝诱和变相公开方式。每期债券的机构投资者合计不得超过200人。\n",
      "　　　Ⅱ、IV两项，根据第4条规定，长期次级债可按一定比例计入净资本，到期期限在3、2、1年以上的，原则上分别按100%、70%、50%的比例计入净资本。短期次级债不计入净资本。\n",
      "　　　Ⅲ项，第7条第3项规定，借入或发行次级债数额应符合以下规定：长期次级债计入净资本的数额不得超过净资本（不含长期次级债累计计入净资本的数额）的50%，净资本与负债的比例、净资产与负债的比例等各项风险控制指标不触及预警标准。\n",
      "　　　V项，根据第9条规定，证券公司借入或发行次级债，应当自完成之日起（分期发行的，于每期发行完成之日起）5个工作日内，向公司住所地中国证监会派出机构提交备案文件。\n"
     ]
    }
   ],
   "source": [
    "anx=anss[9]\n",
    "ans_ans=re.search(r\"【答案】(.*)\",anx).group(1) #提取答案\n",
    "ans_other=re.search(r\"【涉及知识点】(.*)\\n【解析】\",anx).group(1) # 提取涉及知识点\n",
    "ans_analysis=re.search(r\"【解析】\\n(.*)\",anx,re.DOTALL).group(1).strip() # 提取答案解析,可能有多行\n",
    "\n",
    "print(ans_ans,ans_other,ans_analysis)"
   ]
  },
  {
   "cell_type": "code",
   "execution_count": null,
   "metadata": {},
   "outputs": [],
   "source": []
  }
 ],
 "metadata": {
  "kernelspec": {
   "display_name": "Python 3",
   "language": "python",
   "name": "python3"
  },
  "language_info": {
   "codemirror_mode": {
    "name": "ipython",
    "version": 3
   },
   "file_extension": ".py",
   "mimetype": "text/x-python",
   "name": "python",
   "nbconvert_exporter": "python",
   "pygments_lexer": "ipython3",
   "version": "3.8.5"
  }
 },
 "nbformat": 4,
 "nbformat_minor": 4
}
